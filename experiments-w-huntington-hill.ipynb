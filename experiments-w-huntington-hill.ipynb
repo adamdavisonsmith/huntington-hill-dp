{
 "cells": [
  {
   "cell_type": "code",
   "execution_count": 73,
   "metadata": {},
   "outputs": [],
   "source": [
    "import math\n",
    "import numpy as np\n",
    "import heapq as hq\n",
    "import pandas as pd\n",
    "\n",
    "\n",
    "def huntington_hill(populations_table,num_seats):\n",
    "    ### populations is a 2d DataFrame  containing the states' names and populations\n",
    "    ### num_seats is the desired number of seats to assign\n",
    "    populations = populations_table[1]\n",
    "    num_states = len(populations)\n",
    "    if (num_states > num_seats):\n",
    "        print(\"More states than seats!\")\n",
    "        return None\n",
    "    representatives = np.ones(num_states)\n",
    "    priorities = populations.values / math.sqrt(2)\n",
    "    last_state = None\n",
    "    last_priority = None\n",
    "    second_last_state = None\n",
    "    second_last_state_priority = None\n",
    "    for j in range(num_states,num_seats):\n",
    "        highest = np.argmax(priorities) # index of state with highest priority. It will receive this seat\n",
    "        if(highest != last_state):\n",
    "            # If the state getting this seat is not the same as last one, \n",
    "            # update the index and priority of second-last state to receive a seat\n",
    "            second_last_state = last_state\n",
    "            second_last_state_priority = last_priority\n",
    "        # Now record the information about this seat\n",
    "        last_state = highest\n",
    "        last_priority = priorities[highest] \n",
    "        representatives[highest] +=  1    \n",
    "        # Update this state's priority\n",
    "        priorities[highest] = populations[highest]/math.sqrt(representatives[highest] * representatives[highest]+1)\n",
    "        \n",
    "    return (representatives, # a 1D array of apportioned representatives\n",
    "            priorities, # 1D array of  priorities of states for next \n",
    "            last_state, # the index of the state last assigned a seat\n",
    "            last_priority, # the priority for the most recently assigned seat.\n",
    "            second_last_state, # the index of the second-last state assigned a seat\n",
    "            second_last_state_priority) # the priority of the seat last assigned to second-last state\n",
    "  \n",
    "  "
   ]
  },
  {
   "cell_type": "code",
   "execution_count": 74,
   "metadata": {},
   "outputs": [],
   "source": [
    "example_populations_table = pd.DataFrame(\n",
    "    [[\"JAMMU & KASHMIR\",10143700],[\"HIMACHAL PRADESH\",6077900],[\"PUNJAB\",24358999],\n",
    "    [\"CHANDIGARH\",900635],[\"UTTARANCHAL\",8489349],[\"HARYANA\",21144564],[\"DELHI\",13850507],\n",
    "    [\"RAJASTHAN\",56507188],[\"UTTAR PRADESH\",166197921],[\"BIHAR\",82998509],\n",
    "    [\"SIKKIM\",540851],[\"ARUNACHAL PRADESH\",1097968],[\"NAGALAND\",1990036],\n",
    "    [\"MANIPUR\",2166788],[\"MIZORAM\",888573],[\"TRIPURA\",3199203],\n",
    "    [\"MEGHALAYA\",2318822],[\"ASSAM\",26655528],[\"WEST BENGAL\",80176197],\n",
    "    [\"JHARKHAND\",26945829],[\"ORISSA\",36804660],[\"CHHATTISGARH\",20833803],\n",
    "    [\"MADHYA PRADESH\",60348023],[\"GUJARAT\",50671017],[\"DAMAN & DIU\",158204],\n",
    "    [\"DADRA & NAGAR HAVELI\",220490],[\"MAHARASHTRA\",96878627],[\"ANDHRA PRADESH\",76210007],\n",
    "    [\"KARNATAKA\",52850562],[\"GOA\",1347668],[\"LAKSHADWEEP\",60650],\n",
    "    [\"KERALA\",31841374],[\"TAMIL NADU\",62405679],[\"PONDICHERRY\",974345],\n",
    "    [\"ANDAMAN & NICOBAR ISLANDS\",356152]\n",
    "    ] )\n",
    "\n",
    "number_of_seats = 545\n",
    "\n",
    "representatives, priorities, last_state, last_priority, second_last_state,  second_last_state_priority = huntington_hill(example_populations_table, number_of_seats)"
   ]
  },
  {
   "cell_type": "code",
   "execution_count": 75,
   "metadata": {},
   "outputs": [
    {
     "name": "stdout",
     "output_type": "stream",
     "text": [
      "79.08356696041301\n"
     ]
    }
   ],
   "source": [
    "absolute_gaps = last_priority - priorities\n",
    "print(min(absolute_gaps))"
   ]
  },
  {
   "cell_type": "markdown",
   "metadata": {},
   "source": [
    "The __absolute gap__ for a given state is simply the difference between the priority of the last assigned seat and the state's priority.It reflects how much a state's priority would have to _increase_ for the apportionment results to change. It \n",
    "\n",
    "The __normalized gap__ for a given state is the number of _people_ who would have to be added to that state for it to gain a seat, assuming all other states' populations remained the same. The code I have does not correctly compute the gap for the last state to receive a seat. The calculation is correct for all other states. (To get the gap right for the last state, I need to use the info about the second-to-last state.)"
   ]
  },
  {
   "cell_type": "code",
   "execution_count": 77,
   "metadata": {},
   "outputs": [
    {
     "name": "stdout",
     "output_type": "stream",
     "text": [
      "The normalized runner up: RAJASTHAN 2332.6301014023743\n"
     ]
    }
   ],
   "source": [
    "normalization_factors = np.array(list(map(math.sqrt, reps*(reps + 1))))\n",
    "normalized_gaps = (last_priority - priorities) * normalization_factors\n",
    "# Need to fix computation of normalized gap for last state.\n",
    "min_normalized_gap = min(normalized_gaps)\n",
    "normalized_runner_up = np.argmin(normalized_gaps)\n",
    "print(\"The normalized runner up:\", example_populations_table[0][normalized_runner_up], min_normalized_gap)"
   ]
  },
  {
   "cell_type": "markdown",
   "metadata": {},
   "source": [
    "To do: __write an algorithm to compute the distance to instability. __"
   ]
  },
  {
   "cell_type": "code",
   "execution_count": 58,
   "metadata": {},
   "outputs": [
    {
     "data": {
      "text/plain": [
       "2332.6301014023743"
      ]
     },
     "execution_count": 58,
     "metadata": {},
     "output_type": "execute_result"
    }
   ],
   "source": []
  },
  {
   "cell_type": "code",
   "execution_count": null,
   "metadata": {},
   "outputs": [],
   "source": []
  },
  {
   "cell_type": "code",
   "execution_count": null,
   "metadata": {},
   "outputs": [],
   "source": []
  }
 ],
 "metadata": {
  "kernelspec": {
   "display_name": "Python 3",
   "language": "python",
   "name": "python3"
  },
  "language_info": {
   "codemirror_mode": {
    "name": "ipython",
    "version": 3
   },
   "file_extension": ".py",
   "mimetype": "text/x-python",
   "name": "python",
   "nbconvert_exporter": "python",
   "pygments_lexer": "ipython3",
   "version": "3.6.6"
  }
 },
 "nbformat": 4,
 "nbformat_minor": 2
}
