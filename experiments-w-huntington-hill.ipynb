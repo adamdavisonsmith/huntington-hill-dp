{
 "cells": [
  {
   "cell_type": "markdown",
   "metadata": {},
   "source": [
    "This notebook was written by Adam Smith to provide examples and experiments for the paper \n",
    "\"Differential Privacy After the Fact: The Case of Congressional Reapportionment\" by Zhun Deng, Cynthia Dwork, and Adam Smith. \n",
    "\n",
    "Requires Python 3.x.\n",
    "\n",
    "Copyright Adam Smith, 2019."
   ]
  },
  {
   "cell_type": "code",
   "execution_count": 18,
   "metadata": {},
   "outputs": [],
   "source": [
    "import huntington_hill_DP as hh\n",
    "import pandas as pd\n",
    "import numpy as np\n",
    "import importlib\n",
    "import matplotlib.pyplot as plt\n",
    "import math\n",
    "import scipy.stats\n",
    "\n",
    "%matplotlib inline"
   ]
  },
  {
   "cell_type": "markdown",
   "metadata": {},
   "source": [
    "# Experiments with example data from Indian parliament"
   ]
  },
  {
   "cell_type": "code",
   "execution_count": 2,
   "metadata": {},
   "outputs": [
    {
     "name": "stdout",
     "output_type": "stream",
     "text": [
      "====\n",
      "representatives :\n",
      "[ 5.  3. 13.  1.  4. 11.  7. 30. 87. 43.  1.  1.  1.  1.  1.  2.  1. 14.\n",
      " 42. 14. 19. 11. 32. 26.  1.  1. 51. 40. 28.  1.  1. 17. 33.  1.  1.]\n",
      "====\n",
      "distance to instability :\n",
      "60650.0\n"
     ]
    }
   ],
   "source": [
    "example_populations_table = pd.DataFrame(\n",
    "    [[\"JAMMU & KASHMIR\",10143700],[\"HIMACHAL PRADESH\",6077900],[\"PUNJAB\",24358999],\n",
    "    [\"CHANDIGARH\",900635],[\"UTTARANCHAL\",8489349],[\"HARYANA\",21144564],[\"DELHI\",13850507],\n",
    "    [\"RAJASTHAN\",56507188],[\"UTTAR PRADESH\",166197921],[\"BIHAR\",82998509],\n",
    "    [\"SIKKIM\",540851],[\"ARUNACHAL PRADESH\",1097968],[\"NAGALAND\",1990036],\n",
    "    [\"MANIPUR\",2166788],[\"MIZORAM\",888573],[\"TRIPURA\",3199203],\n",
    "    [\"MEGHALAYA\",2318822],[\"ASSAM\",26655528],[\"WEST BENGAL\",80176197],\n",
    "    [\"JHARKHAND\",26945829],[\"ORISSA\",36804660],[\"CHHATTISGARH\",20833803],\n",
    "    [\"MADHYA PRADESH\",60348023],[\"GUJARAT\",50671017],[\"DAMAN & DIU\",158204],\n",
    "    [\"DADRA & NAGAR HAVELI\",220490],[\"MAHARASHTRA\",96878627],[\"ANDHRA PRADESH\",76210007],\n",
    "    [\"KARNATAKA\",52850562],[\"GOA\",1347668],[\"LAKSHADWEEP\",60650],\n",
    "    [\"KERALA\",31841374],[\"TAMIL NADU\",62405679],[\"PONDICHERRY\",974345],\n",
    "    [\"ANDAMAN & NICOBAR ISLANDS\",356152]\n",
    "    ] )\n",
    "\n",
    "example_populations_array = example_populations_table[1].values\n",
    "\n",
    "number_of_seats = 545\n",
    "\n",
    "stats = hh.huntington_hill(example_populations_array, number_of_seats)\n",
    "\n",
    "for x in ['representatives', 'distance to instability']:\n",
    "    print(\"====\")\n",
    "    print(x, \":\")\n",
    "    print(stats[x])"
   ]
  },
  {
   "cell_type": "markdown",
   "metadata": {},
   "source": [
    "## How likely is noise addition to changed apportioned seats? "
   ]
  },
  {
   "cell_type": "markdown",
   "metadata": {},
   "source": [
    "Trying this with the Indian population data:"
   ]
  },
  {
   "cell_type": "code",
   "execution_count": 3,
   "metadata": {},
   "outputs": [
    {
     "name": "stdout",
     "output_type": "stream",
     "text": [
      "Out of 100 trials, there were 15 trials where the apportionment totals differed from the exact totals. Of those, the average number of seats that changed was 2.0. The distance to instability was 60650.0.\n"
     ]
    }
   ],
   "source": [
    "(n, e, d) = hh.hh_robustness_to_noise_of_instance(example_populations_array, \n",
    "                      number_of_seats,\n",
    "                      epsilon = 0.00003, \n",
    "                      num_reps = 100)\n",
    "print(\"Out of 100 trials, there were {} trials where the \\\n",
    "apportionment totals differed from the exact totals. \\\n",
    "Of those, the average number of seats that changed \\\n",
    "was {}. The distance to instability was {}.\".format(n, e, d))"
   ]
  },
  {
   "cell_type": "markdown",
   "metadata": {},
   "source": [
    "# Experiments with US Historical Data\n",
    "\n",
    "First, we load the population data into memory. \n",
    "\n",
    "This data comes from two sources: \n",
    "* 1790 through 1990: https://www.census.gov/population/www/censusdata/pop1790-1990.html\n",
    "* 2000, 2010, and 2017 (estimated): https://en.wikipedia.org/wiki/List_of_U.S._states_and_territories_by_population \n",
    "* Note that the 2017 numbers don't actually come from a decennial census. They are just there for fun.\n",
    "\n",
    "The data on the number of seats historically apportioned comes from \n",
    "https://en.wikipedia.org/wiki/United_States_congressional_apportionment"
   ]
  },
  {
   "cell_type": "code",
   "execution_count": 4,
   "metadata": {},
   "outputs": [],
   "source": [
    "us_pops = pd.read_csv('historical_populations.csv', header = 0)\n",
    "\n",
    "us_seats = pd.read_csv('historical_seats_apportioned.csv', header = 0)"
   ]
  },
  {
   "cell_type": "markdown",
   "metadata": {},
   "source": [
    "Now let's delete the total US population as well as the District of Columbia\n"
   ]
  },
  {
   "cell_type": "code",
   "execution_count": 5,
   "metadata": {},
   "outputs": [
    {
     "name": "stdout",
     "output_type": "stream",
     "text": [
      "Index(['Name', '2017', '2010', '2000', '1990', '1980', '1970', '1960', '1950',\n",
      "       '1940', '1930', '1920', '1910', '1900', '1890', '1880', '1870', '1860',\n",
      "       '1850', '1840', '1830', '1820', '1810', '1800', '1790',\n",
      "       'Year of first census', 'No significant change since', 'FIPS Code'],\n",
      "      dtype='object')\n"
     ]
    },
    {
     "data": {
      "text/html": [
       "<div>\n",
       "<style scoped>\n",
       "    .dataframe tbody tr th:only-of-type {\n",
       "        vertical-align: middle;\n",
       "    }\n",
       "\n",
       "    .dataframe tbody tr th {\n",
       "        vertical-align: top;\n",
       "    }\n",
       "\n",
       "    .dataframe thead th {\n",
       "        text-align: right;\n",
       "    }\n",
       "</style>\n",
       "<table border=\"1\" class=\"dataframe\">\n",
       "  <thead>\n",
       "    <tr style=\"text-align: right;\">\n",
       "      <th></th>\n",
       "      <th>Name</th>\n",
       "      <th>2017</th>\n",
       "      <th>2010</th>\n",
       "      <th>2000</th>\n",
       "      <th>1990</th>\n",
       "      <th>1980</th>\n",
       "      <th>1970</th>\n",
       "      <th>1960</th>\n",
       "      <th>1950</th>\n",
       "      <th>1940</th>\n",
       "      <th>...</th>\n",
       "      <th>1850</th>\n",
       "      <th>1840</th>\n",
       "      <th>1830</th>\n",
       "      <th>1820</th>\n",
       "      <th>1810</th>\n",
       "      <th>1800</th>\n",
       "      <th>1790</th>\n",
       "      <th>Year of first census</th>\n",
       "      <th>No significant change since</th>\n",
       "      <th>FIPS Code</th>\n",
       "    </tr>\n",
       "  </thead>\n",
       "  <tbody>\n",
       "    <tr>\n",
       "      <th>1</th>\n",
       "      <td>Alabama</td>\n",
       "      <td>4833722</td>\n",
       "      <td>4779736</td>\n",
       "      <td>4447100</td>\n",
       "      <td>4040587</td>\n",
       "      <td>3893888</td>\n",
       "      <td>3444165</td>\n",
       "      <td>3266740</td>\n",
       "      <td>3061743</td>\n",
       "      <td>2832961</td>\n",
       "      <td>...</td>\n",
       "      <td>771623.0</td>\n",
       "      <td>590756.0</td>\n",
       "      <td>309527.0</td>\n",
       "      <td>127901.0</td>\n",
       "      <td>9046.0</td>\n",
       "      <td>1250.0</td>\n",
       "      <td>NaN</td>\n",
       "      <td>1800</td>\n",
       "      <td>1820</td>\n",
       "      <td>1.0</td>\n",
       "    </tr>\n",
       "    <tr>\n",
       "      <th>2</th>\n",
       "      <td>Alaska</td>\n",
       "      <td>739795</td>\n",
       "      <td>710231</td>\n",
       "      <td>626932</td>\n",
       "      <td>550043</td>\n",
       "      <td>401851</td>\n",
       "      <td>300382</td>\n",
       "      <td>226167</td>\n",
       "      <td>128643</td>\n",
       "      <td>72524</td>\n",
       "      <td>...</td>\n",
       "      <td>NaN</td>\n",
       "      <td>NaN</td>\n",
       "      <td>NaN</td>\n",
       "      <td>NaN</td>\n",
       "      <td>NaN</td>\n",
       "      <td>NaN</td>\n",
       "      <td>NaN</td>\n",
       "      <td>1880</td>\n",
       "      <td>1880</td>\n",
       "      <td>2.0</td>\n",
       "    </tr>\n",
       "    <tr>\n",
       "      <th>3</th>\n",
       "      <td>Arizona</td>\n",
       "      <td>7016270</td>\n",
       "      <td>6392017</td>\n",
       "      <td>5130632</td>\n",
       "      <td>3665228</td>\n",
       "      <td>2718215</td>\n",
       "      <td>1770900</td>\n",
       "      <td>1302161</td>\n",
       "      <td>749587</td>\n",
       "      <td>499261</td>\n",
       "      <td>...</td>\n",
       "      <td>NaN</td>\n",
       "      <td>NaN</td>\n",
       "      <td>NaN</td>\n",
       "      <td>NaN</td>\n",
       "      <td>NaN</td>\n",
       "      <td>NaN</td>\n",
       "      <td>NaN</td>\n",
       "      <td>1860</td>\n",
       "      <td>1870</td>\n",
       "      <td>4.0</td>\n",
       "    </tr>\n",
       "    <tr>\n",
       "      <th>4</th>\n",
       "      <td>Arkansas</td>\n",
       "      <td>2959373</td>\n",
       "      <td>2915918</td>\n",
       "      <td>2673400</td>\n",
       "      <td>2350725</td>\n",
       "      <td>2286435</td>\n",
       "      <td>1923295</td>\n",
       "      <td>1786272</td>\n",
       "      <td>1909511</td>\n",
       "      <td>1949387</td>\n",
       "      <td>...</td>\n",
       "      <td>209897.0</td>\n",
       "      <td>97574.0</td>\n",
       "      <td>30388.0</td>\n",
       "      <td>14273.0</td>\n",
       "      <td>1062.0</td>\n",
       "      <td>NaN</td>\n",
       "      <td>NaN</td>\n",
       "      <td>1810</td>\n",
       "      <td>1830</td>\n",
       "      <td>5.0</td>\n",
       "    </tr>\n",
       "    <tr>\n",
       "      <th>5</th>\n",
       "      <td>California</td>\n",
       "      <td>39536653</td>\n",
       "      <td>37253956</td>\n",
       "      <td>33871648</td>\n",
       "      <td>29760021</td>\n",
       "      <td>23667902</td>\n",
       "      <td>19953134</td>\n",
       "      <td>15717204</td>\n",
       "      <td>10586223</td>\n",
       "      <td>6907387</td>\n",
       "      <td>...</td>\n",
       "      <td>92597.0</td>\n",
       "      <td>NaN</td>\n",
       "      <td>NaN</td>\n",
       "      <td>NaN</td>\n",
       "      <td>NaN</td>\n",
       "      <td>NaN</td>\n",
       "      <td>NaN</td>\n",
       "      <td>1850</td>\n",
       "      <td>1860</td>\n",
       "      <td>6.0</td>\n",
       "    </tr>\n",
       "  </tbody>\n",
       "</table>\n",
       "<p>5 rows × 28 columns</p>\n",
       "</div>"
      ],
      "text/plain": [
       "         Name      2017      2010      2000      1990      1980      1970  \\\n",
       "1     Alabama   4833722   4779736   4447100   4040587   3893888   3444165   \n",
       "2      Alaska    739795    710231    626932    550043    401851    300382   \n",
       "3     Arizona   7016270   6392017   5130632   3665228   2718215   1770900   \n",
       "4    Arkansas   2959373   2915918   2673400   2350725   2286435   1923295   \n",
       "5  California  39536653  37253956  33871648  29760021  23667902  19953134   \n",
       "\n",
       "       1960      1950     1940  ...      1850      1840      1830      1820  \\\n",
       "1   3266740   3061743  2832961  ...  771623.0  590756.0  309527.0  127901.0   \n",
       "2    226167    128643    72524  ...       NaN       NaN       NaN       NaN   \n",
       "3   1302161    749587   499261  ...       NaN       NaN       NaN       NaN   \n",
       "4   1786272   1909511  1949387  ...  209897.0   97574.0   30388.0   14273.0   \n",
       "5  15717204  10586223  6907387  ...   92597.0       NaN       NaN       NaN   \n",
       "\n",
       "     1810    1800  1790  Year of first census  No significant change since  \\\n",
       "1  9046.0  1250.0   NaN                  1800                         1820   \n",
       "2     NaN     NaN   NaN                  1880                         1880   \n",
       "3     NaN     NaN   NaN                  1860                         1870   \n",
       "4  1062.0     NaN   NaN                  1810                         1830   \n",
       "5     NaN     NaN   NaN                  1850                         1860   \n",
       "\n",
       "   FIPS Code  \n",
       "1        1.0  \n",
       "2        2.0  \n",
       "3        4.0  \n",
       "4        5.0  \n",
       "5        6.0  \n",
       "\n",
       "[5 rows x 28 columns]"
      ]
     },
     "execution_count": 5,
     "metadata": {},
     "output_type": "execute_result"
    }
   ],
   "source": [
    "us_pops = us_pops.drop([0,9]) \n",
    "\n",
    "print(us_pops.columns)\n",
    "us_pops.head()"
   ]
  },
  {
   "cell_type": "markdown",
   "metadata": {},
   "source": [
    "We also need to process the number of seats apportioned in each Census year.\n",
    "\n",
    "* According to Wikipeda, \"Congress failed to pass any reapportionment to implement the 1920 United States Census so despite population shift, distribution of seats from 1913 remained in effect until 1933.\" For experiments, we will use the total from 1910. \n",
    "\n",
    "* For experiments with the 2017 estimates, we use the total from 2010.\n",
    "\n",
    "Both of these fictitious numbers happen to be 435. "
   ]
  },
  {
   "cell_type": "code",
   "execution_count": 6,
   "metadata": {},
   "outputs": [
    {
     "data": {
      "text/html": [
       "<div>\n",
       "<style scoped>\n",
       "    .dataframe tbody tr th:only-of-type {\n",
       "        vertical-align: middle;\n",
       "    }\n",
       "\n",
       "    .dataframe tbody tr th {\n",
       "        vertical-align: top;\n",
       "    }\n",
       "\n",
       "    .dataframe thead th {\n",
       "        text-align: right;\n",
       "    }\n",
       "</style>\n",
       "<table border=\"1\" class=\"dataframe\">\n",
       "  <thead>\n",
       "    <tr style=\"text-align: right;\">\n",
       "      <th></th>\n",
       "      <th>Year</th>\n",
       "      <th>1790</th>\n",
       "      <th>1800</th>\n",
       "      <th>1810</th>\n",
       "      <th>1820</th>\n",
       "      <th>1830</th>\n",
       "      <th>1840</th>\n",
       "      <th>1850</th>\n",
       "      <th>1860</th>\n",
       "      <th>1870</th>\n",
       "      <th>...</th>\n",
       "      <th>1910</th>\n",
       "      <th>1930</th>\n",
       "      <th>1940</th>\n",
       "      <th>1950</th>\n",
       "      <th>1960</th>\n",
       "      <th>1970</th>\n",
       "      <th>1980</th>\n",
       "      <th>1990</th>\n",
       "      <th>2000</th>\n",
       "      <th>2010</th>\n",
       "    </tr>\n",
       "  </thead>\n",
       "  <tbody>\n",
       "    <tr>\n",
       "      <th>0</th>\n",
       "      <td>Number of seats apportioned</td>\n",
       "      <td>105</td>\n",
       "      <td>142</td>\n",
       "      <td>182</td>\n",
       "      <td>213</td>\n",
       "      <td>240</td>\n",
       "      <td>223</td>\n",
       "      <td>234</td>\n",
       "      <td>241</td>\n",
       "      <td>292</td>\n",
       "      <td>...</td>\n",
       "      <td>435</td>\n",
       "      <td>435</td>\n",
       "      <td>435</td>\n",
       "      <td>435</td>\n",
       "      <td>435</td>\n",
       "      <td>435</td>\n",
       "      <td>435</td>\n",
       "      <td>435</td>\n",
       "      <td>435</td>\n",
       "      <td>435</td>\n",
       "    </tr>\n",
       "  </tbody>\n",
       "</table>\n",
       "<p>1 rows × 23 columns</p>\n",
       "</div>"
      ],
      "text/plain": [
       "                          Year  1790  1800  1810  1820  1830  1840  1850  \\\n",
       "0  Number of seats apportioned   105   142   182   213   240   223   234   \n",
       "\n",
       "   1860  1870  ...  1910  1930  1940  1950  1960  1970  1980  1990  2000  2010  \n",
       "0   241   292  ...   435   435   435   435   435   435   435   435   435   435  \n",
       "\n",
       "[1 rows x 23 columns]"
      ]
     },
     "execution_count": 6,
     "metadata": {},
     "output_type": "execute_result"
    }
   ],
   "source": [
    "us_seats.head()"
   ]
  },
  {
   "cell_type": "code",
   "execution_count": 7,
   "metadata": {},
   "outputs": [],
   "source": [
    "us_seats['1920'] = us_seats['1910']\n",
    "us_seats['2017'] = us_seats['2010']"
   ]
  },
  {
   "cell_type": "code",
   "execution_count": 8,
   "metadata": {},
   "outputs": [
    {
     "name": "stdout",
     "output_type": "stream",
     "text": [
      "[ 7.  1.  9.  4. 53.  7.  5.  1. 27. 14.  2.  2. 18.  9.  4.  4.  6.  6.\n",
      "  2.  8.  9. 14.  8.  4.  8.  1.  3.  4.  2. 12.  3. 27. 13.  1. 16.  5.\n",
      "  5. 18.  2.  7.  1.  9. 36.  4.  1. 11. 10.  3.  8.  1.]\n"
     ]
    }
   ],
   "source": [
    "representatives2010 = hh.huntington_hill(us_pops['2010'].values, num_seats = 435)['representatives']\n",
    "representatives1990 = hh.huntington_hill(us_pops['1990'].values, num_seats = 435)['representatives']\n",
    "\n",
    "print(representatives2010)"
   ]
  },
  {
   "cell_type": "code",
   "execution_count": 9,
   "metadata": {},
   "outputs": [],
   "source": [
    "list_of_years = us_pops.columns.drop(['Name', 'Year of first census',\n",
    "       'No significant change since', 'FIPS Code'])"
   ]
  },
  {
   "cell_type": "markdown",
   "metadata": {},
   "source": [
    "## How robust is the HH apportionment to noise? \n",
    "\n",
    "The following code repeatedly adds geometric noise to state populations and checks if the apportionment changes.  "
   ]
  },
  {
   "cell_type": "code",
   "execution_count": 10,
   "metadata": {},
   "outputs": [
    {
     "name": "stdout",
     "output_type": "stream",
     "text": [
      "==============\n",
      "Now trying epsilon =  1.0\n",
      "Each row lists: year, number of seats, number of trials (out of 100) that yielded different apportionment, the average number of seats that changed, and the distance to instability for taht year's real numbers.\n",
      "2017 435   0   0.00 7787.00\n",
      "2010 435   0   0.00 12409.00\n",
      "2000 435   0   0.00 692.00\n",
      "1990 435   0   0.00 836.00\n",
      "1980 435   0   0.00 7422.00\n",
      "1970 435   0   0.00 693.00\n",
      "1960 435   0   0.00 11436.00\n",
      "1950 435   0   0.00 1876.00\n",
      "1940 435   0   0.00 1180.00\n",
      "1930 435   0   0.00 118.00\n",
      "1920 435   0   0.00 3939.00\n",
      "1910 435   0   0.00 5159.00\n",
      "1900 386   0   0.00 4915.00\n",
      "==============\n",
      "Now trying epsilon =  0.1\n",
      "Each row lists: year, number of seats, number of trials (out of 100) that yielded different apportionment, the average number of seats that changed, and the distance to instability for taht year's real numbers.\n",
      "2017 435   0   0.00 7787.00\n",
      "2010 435   0   0.00 12409.00\n",
      "2000 435   0   0.00 692.00\n",
      "1990 435   0   0.00 836.00\n",
      "1980 435   0   0.00 7422.00\n",
      "1970 435   0   0.00 693.00\n",
      "1960 435   0   0.00 11436.00\n",
      "1950 435   0   0.00 1876.00\n",
      "1940 435   0   0.00 1180.00\n",
      "1930 435   0   0.00 118.00\n",
      "1920 435   0   0.00 3939.00\n",
      "1910 435   0   0.00 5159.00\n",
      "1900 386   0   0.00 4915.00\n",
      "==============\n",
      "Now trying epsilon =  0.01\n",
      "Each row lists: year, number of seats, number of trials (out of 100) that yielded different apportionment, the average number of seats that changed, and the distance to instability for taht year's real numbers.\n",
      "2017 435   0   0.00 7787.00\n",
      "2010 435   0   0.00 12409.00\n",
      "2000 435   0   0.00 692.00\n",
      "1990 435   0   0.00 836.00\n",
      "1980 435   0   0.00 7422.00\n",
      "1970 435   0   0.00 693.00\n",
      "1960 435   0   0.00 11436.00\n",
      "1950 435   0   0.00 1876.00\n",
      "1940 435   0   0.00 1180.00\n",
      "1930 435  28   2.00 118.00\n",
      "1920 435   0   0.00 3939.00\n",
      "1910 435   0   0.00 5159.00\n",
      "1900 386   0   0.00 4915.00\n",
      "==============\n",
      "Now trying epsilon =  0.001\n",
      "Each row lists: year, number of seats, number of trials (out of 100) that yielded different apportionment, the average number of seats that changed, and the distance to instability for taht year's real numbers.\n",
      "2017 435   0   0.00 7787.00\n",
      "2010 435   0   0.00 12409.00\n",
      "2000 435  21   2.00 692.00\n",
      "1990 435  32   2.00 836.00\n",
      "1980 435   0   0.00 7422.00\n",
      "1970 435  27   2.00 693.00\n",
      "1960 435   0   0.00 11436.00\n",
      "1950 435   5   2.00 1876.00\n",
      "1940 435  15   2.00 1180.00\n",
      "1930 435  63   2.00 118.00\n",
      "1920 435   1   2.00 3939.00\n",
      "1910 435   1   2.00 5159.00\n",
      "1900 386   1   2.00 4915.00\n",
      "==============\n",
      "Now trying epsilon =  0.0001\n",
      "Each row lists: year, number of seats, number of trials (out of 100) that yielded different apportionment, the average number of seats that changed, and the distance to instability for taht year's real numbers.\n",
      "2017 435  52   2.04 7787.00\n",
      "2010 435  55   2.18 12409.00\n",
      "2000 435  67   2.15 692.00\n",
      "1990 435  81   2.64 836.00\n",
      "1980 435  42   2.00 7422.00\n",
      "1970 435  80   2.55 693.00\n",
      "1960 435  45   2.13 11436.00\n",
      "1950 435  89   2.54 1876.00\n",
      "1940 435  55   2.18 1180.00\n",
      "1930 435  95   2.97 118.00\n",
      "1920 435  88   3.05 3939.00\n",
      "1910 435  64   2.38 5159.00\n",
      "1900 386  90   3.11 4915.00\n"
     ]
    }
   ],
   "source": [
    "for epsilon in [1.0, 0.1, 0.01, 0.001, 0.0001]:\n",
    "    print(\"==============\")\n",
    "    print(\"Now trying epsilon = \", epsilon)\n",
    "    print(\"Each row lists: year, number of seats, number of trials (out of 100) that yielded different apportionment, the average number of seats that changed, and the distance to instability for taht year's real numbers.\")\n",
    "    for year in list_of_years[0:13]: \n",
    "        (n,e, d) = hh.hh_robustness_to_noise_of_instance(us_pops[year].values, \n",
    "                          num_seats = us_seats[year][0],\n",
    "                          epsilon = epsilon, \n",
    "                          num_reps = 100)\n",
    "        print('{} {} {:3d}   {:.2f} {:.2f}'.format(year, us_seats[year][0], n, e, d))"
   ]
  },
  {
   "cell_type": "code",
   "execution_count": 11,
   "metadata": {},
   "outputs": [],
   "source": [
    "## Need to write code to handle years with missing populations. "
   ]
  },
  {
   "cell_type": "markdown",
   "metadata": {},
   "source": [
    "## Experiments with the projection to the nearest consistent set of populations"
   ]
  },
  {
   "cell_type": "code",
   "execution_count": 12,
   "metadata": {},
   "outputs": [],
   "source": [
    "# Use the folowing code to force the notebook to reload the main package. \n",
    "#importlib.reload(hh)"
   ]
  },
  {
   "cell_type": "markdown",
   "metadata": {},
   "source": [
    "As a test, we first ask how much the 2010 state populations would have to change in order to be consistent with the 2010 apportionment. As we might hope, the correct answer is __0__. "
   ]
  },
  {
   "cell_type": "code",
   "execution_count": 19,
   "metadata": {
    "scrolled": true
   },
   "outputs": [
    {
     "name": "stdout",
     "output_type": "stream",
     "text": [
      "0.0 0.0\n"
     ]
    }
   ],
   "source": [
    "output = hh.huntington_hill_projection(us_pops['2010'].values, representatives2010)\n",
    "print( output['Distance'], np.average(output['Delta']))"
   ]
  },
  {
   "cell_type": "markdown",
   "metadata": {},
   "source": [
    "To visualize how the algorithm works, we plot the magnitude of the changes we would get (y-axis) if we were to fix the threshold T to different values (x-axis). This curve is indeed convex, and its minimum (which is 0) occurs at the threshold actually used by the HH algorithm. "
   ]
  },
  {
   "cell_type": "code",
   "execution_count": 20,
   "metadata": {},
   "outputs": [
    {
     "data": {
      "text/plain": [
       "[<matplotlib.lines.Line2D at 0x1a20ae2dd8>]"
      ]
     },
     "execution_count": 20,
     "metadata": {},
     "output_type": "execute_result"
    },
    {
     "data": {
      "image/png": "[encoded data removed]",
      "text/plain": [
       "<Figure size 432x288 with 1 Axes>"
      ]
     },
     "metadata": {
      "needs_background": "light"
     },
     "output_type": "display_data"
    }
   ],
   "source": [
    "thresholds = output['All Thresholds']\n",
    "distances = output['All Distances']\n",
    "plt.plot(thresholds, distances)"
   ]
  },
  {
   "cell_type": "markdown",
   "metadata": {},
   "source": [
    "Next, we ask how much the __2010__ state populations would have to change in order to be consistent with the __1990__ apportionment. The answer is pretty big: 22.2 M people (additons and deletions). "
   ]
  },
  {
   "cell_type": "code",
   "execution_count": 22,
   "metadata": {},
   "outputs": [
    {
     "name": "stdout",
     "output_type": "stream",
     "text": [
      "22217657.0 75661.78\n"
     ]
    }
   ],
   "source": [
    "output = hh.huntington_hill_projection(us_pops['2010'].values, representatives1990)\n",
    "print( output['Distance'], np.average(output['Delta']))"
   ]
  },
  {
   "cell_type": "markdown",
   "metadata": {},
   "source": [
    "Again, we plot distances versus threhsolds. The curve is convex, with a minimum at 22.2 M."
   ]
  },
  {
   "cell_type": "code",
   "execution_count": 23,
   "metadata": {},
   "outputs": [
    {
     "data": {
      "text/plain": [
       "[<matplotlib.lines.Line2D at 0x1a20d464a8>]"
      ]
     },
     "execution_count": 23,
     "metadata": {},
     "output_type": "execute_result"
    },
    {
     "data": {
      "image/png": "[encoded data removed]",
      "text/plain": [
       "<Figure size 432x288 with 1 Axes>"
      ]
     },
     "metadata": {
      "needs_background": "light"
     },
     "output_type": "display_data"
    }
   ],
   "source": [
    "thresholds = output['All Thresholds']\n",
    "distances = output['All Distances']\n",
    "plt.plot(thresholds, distances)"
   ]
  },
  {
   "cell_type": "markdown",
   "metadata": {},
   "source": [
    "Symmetrically, we ask how much the __1990__ state populations would have to change in order to be consistent with the __2010__ apportionment. The answer is again pretty big: 20.3M people (additions and deletions). "
   ]
  },
  {
   "cell_type": "code",
   "execution_count": 15,
   "metadata": {},
   "outputs": [
    {
     "name": "stdout",
     "output_type": "stream",
     "text": [
      "20294642.0 3318.44\n"
     ]
    },
    {
     "data": {
      "text/plain": [
       "[<matplotlib.lines.Line2D at 0x1a20a6c5f8>]"
      ]
     },
     "execution_count": 15,
     "metadata": {},
     "output_type": "execute_result"
    },
    {
     "data": {
      "image/png": "[encoded data removed]",
      "text/plain": [
       "<Figure size 432x288 with 1 Axes>"
      ]
     },
     "metadata": {
      "needs_background": "light"
     },
     "output_type": "display_data"
    }
   ],
   "source": [
    "output = hh.huntington_hill_projection(us_pops['1990'].values, representatives2010)\n",
    "print( output['Distance'], np.average(output['Delta']))\n",
    "thresholds = output['All Thresholds']\n",
    "distances = output['All Distances']\n",
    "plt.plot(thresholds, distances)"
   ]
  },
  {
   "cell_type": "markdown",
   "metadata": {},
   "source": [
    "The `huntington_hill_projection` function produces as output a Python dictionary with a load of relevant results. You can get the vector of projected populations, the vector of differences, the \"threshold\" (that is the last priority which the HH algorithm would have used when assigning a representative), the distance (the L1 norm of the vector of changes), and other intermediate values. "
   ]
  },
  {
   "cell_type": "code",
   "execution_count": 16,
   "metadata": {},
   "outputs": [
    {
     "data": {
      "text/plain": [
       "dict_keys(['Projected populations', 'Delta', 'Threshold', 'Distance', 'All Thresholds', 'All Distances'])"
      ]
     },
     "execution_count": 16,
     "metadata": {},
     "output_type": "execute_result"
    }
   ],
   "source": [
    "output.keys()"
   ]
  },
  {
   "cell_type": "markdown",
   "metadata": {},
   "source": [
    "## Main Experiment: How big are the changes needed for consistency?\n",
    "\n",
    "This experiment looks at average L1 norm of the changes needed to transform noisy population statistics into stats that are consistent with the true apportionment for a particular year. We do this for several years, and several values of `epsilon`."
   ]
  },
  {
   "cell_type": "code",
   "execution_count": 25,
   "metadata": {},
   "outputs": [
    {
     "name": "stdout",
     "output_type": "stream",
     "text": [
      "==============\n",
      "Now trying epsilon =  1.0\n",
      "Each row lists: year, number of seats, distance to instability of the true numbers, \n",
      "          number of trials (out of 100) that yielded different apportionment, the average number of \n",
      "          seats that changed, and the average l1 distance of the projection to the nearest set of \n",
      "          populations with the true apportionment.\n",
      "2017 435        7787   0   0.00       0.00,\n",
      "2010 435       12409   0   0.00       0.00,\n",
      "2000 435         692   0   0.00       0.00,\n",
      "1990 435         836   0   0.00       0.00,\n",
      "1980 435        7422   0   0.00       0.00,\n",
      "1970 435         693   0   0.00       0.00,\n",
      "1960 435       11436   0   0.00       0.00,\n",
      "1950 435        1876   0   0.00       0.00,\n",
      "1940 435        1180   0   0.00       0.00,\n",
      "1930 435         118   0   0.00       0.00,\n",
      "1920 435        3939   0   0.00       0.00,\n",
      "1910 435        5159   0   0.00       0.00,\n",
      "1900 386        4915   0   0.00       0.00,\n",
      "==============\n",
      "Now trying epsilon =  0.1\n",
      "Each row lists: year, number of seats, distance to instability of the true numbers, \n",
      "          number of trials (out of 100) that yielded different apportionment, the average number of \n",
      "          seats that changed, and the average l1 distance of the projection to the nearest set of \n",
      "          populations with the true apportionment.\n",
      "2017 435        7787   0   0.00       0.00,\n",
      "2010 435       12409   0   0.00       0.00,\n",
      "2000 435         692   0   0.00       0.00,\n",
      "1990 435         836   0   0.00       0.00,\n",
      "1980 435        7422   0   0.00       0.00,\n",
      "1970 435         693   0   0.00       0.00,\n",
      "1960 435       11436   0   0.00       0.00,\n",
      "1950 435        1876   0   0.00       0.00,\n",
      "1940 435        1180   0   0.00       0.00,\n",
      "1930 435         118   0   0.00       0.00,\n",
      "1920 435        3939   0   0.00       0.00,\n",
      "1910 435        5159   0   0.00       0.00,\n",
      "1900 386        4915   0   0.00       0.00,\n",
      "==============\n",
      "Now trying epsilon =  0.01\n",
      "Each row lists: year, number of seats, distance to instability of the true numbers, \n",
      "          number of trials (out of 100) that yielded different apportionment, the average number of \n",
      "          seats that changed, and the average l1 distance of the projection to the nearest set of \n",
      "          populations with the true apportionment.\n",
      "2017 435        7787   0   0.00       0.00,\n",
      "2010 435       12409   0   0.00       0.00,\n",
      "2000 435         692   0   0.00       0.00,\n",
      "1990 435         836   0   0.00       0.00,\n",
      "1980 435        7422   0   0.00       0.00,\n",
      "1970 435         693   0   0.00       0.00,\n",
      "1960 435       11436   0   0.00       0.00,\n",
      "1950 435        1876   0   0.00       0.00,\n",
      "1940 435        1180   0   0.00       0.00,\n",
      "1930 435         118  25   2.00      95.32,\n",
      "1920 435        3939   0   0.00       0.00,\n",
      "1910 435        5159   0   0.00       0.00,\n",
      "1900 386        4915   0   0.00       0.00,\n",
      "==============\n",
      "Now trying epsilon =  0.001\n",
      "Each row lists: year, number of seats, distance to instability of the true numbers, \n",
      "          number of trials (out of 100) that yielded different apportionment, the average number of \n",
      "          seats that changed, and the average l1 distance of the projection to the nearest set of \n",
      "          populations with the true apportionment.\n",
      "2017 435        7787   0   0.00       0.00,\n",
      "2010 435       12409   0   0.00       0.00,\n",
      "2000 435         692  27   2.00    1088.93,\n",
      "1990 435         836  28   2.00    1121.18,\n",
      "1980 435        7422   0   0.00       0.00,\n",
      "1970 435         693  35   2.00    1348.74,\n",
      "1960 435       11436   0   0.00       0.00,\n",
      "1950 435        1876   6   2.00     672.17,\n",
      "1940 435        1180  17   2.00     825.53,\n",
      "1930 435         118  64   2.00    1699.86,\n",
      "1920 435        3939   0   0.00       0.00,\n",
      "1910 435        5159   0   0.00       0.00,\n",
      "1900 386        4915   1   2.00    2368.00,\n",
      "==============\n",
      "Now trying epsilon =  0.0001\n",
      "Each row lists: year, number of seats, distance to instability of the true numbers, \n",
      "          number of trials (out of 100) that yielded different apportionment, the average number of \n",
      "          seats that changed, and the average l1 distance of the projection to the nearest set of \n",
      "          populations with the true apportionment.\n",
      "2017 435        7787  55   2.07   14477.33,\n",
      "2010 435       12409  39   2.05   10423.13,\n",
      "2000 435         692  63   2.10   14577.13,\n",
      "1990 435         836  78   2.82   22728.88,\n",
      "1980 435        7422  39   2.05    8445.13,\n",
      "1970 435         693  83   2.29   14821.06,\n",
      "1960 435       11436  58   2.28   16088.45,\n",
      "1950 435        1876  87   2.74   19373.84,\n",
      "1940 435        1180  70   2.06   14927.89,\n",
      "1930 435         118  92   3.20   26717.87,\n",
      "1920 435        3939  90   2.93   19465.93,\n",
      "1910 435        5159  71   2.48   16278.07,\n",
      "1900 386        4915  85   2.75   25180.12,\n"
     ]
    }
   ],
   "source": [
    "for epsilon in [1.0, 0.1, 0.01, 0.001, 0.0001]:\n",
    "    print(\"==============\")\n",
    "    print(\"Now trying epsilon = \", epsilon)\n",
    "    print('''Each row lists: year, number of seats, distance to instability of the true numbers, \n",
    "          number of trials (out of 100) that yielded different apportionment, the average number of \n",
    "          seats that changed, and the average l1 distance of the projection to the nearest set of \n",
    "          populations with the true apportionment.''')\n",
    "    for year in list_of_years[0:13]: \n",
    "        (n, e, avg_dist, d) = hh.hh_projection_after_noise_on_instance(us_pops[year].values, \n",
    "                          num_seats = us_seats[year][0],\n",
    "                          epsilon = epsilon, \n",
    "                          num_reps = 100)\n",
    "        print('{} {}  {:10.0f} {:3d}   {:3.2f} {:10.2f},'.format(year, us_seats[year][0], d, n, e, avg_dist))\n"
   ]
  },
  {
   "cell_type": "code",
   "execution_count": null,
   "metadata": {},
   "outputs": [],
   "source": []
  }
 ],
 "metadata": {
  "kernelspec": {
   "display_name": "Python 3",
   "language": "python",
   "name": "python3"
  },
  "language_info": {
   "codemirror_mode": {
    "name": "ipython",
    "version": 3
   },
   "file_extension": ".py",
   "mimetype": "text/x-python",
   "name": "python",
   "nbconvert_exporter": "python",
   "pygments_lexer": "ipython3",
   "version": "3.7.3"
  }
 },
 "nbformat": 4,
 "nbformat_minor": 2
}
