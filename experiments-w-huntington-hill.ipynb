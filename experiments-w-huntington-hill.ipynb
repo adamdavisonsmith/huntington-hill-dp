{
 "cells": [
  {
   "cell_type": "code",
   "execution_count": 1,
   "metadata": {},
   "outputs": [],
   "source": [
    "import math\n",
    "import numpy as np\n",
    "import heapq as hq\n",
    "import pandas as pd\n",
    "\n",
    "\n",
    "def huntington_hill(populations_array,num_seats):\n",
    "    ### populations is a numpy array of populations\n",
    "    ### num_seats is the desired number of seats to assign\n",
    "    num_states = len(populations_array)\n",
    "    if (num_states > num_seats):\n",
    "        print(\"More states than seats!\")\n",
    "        return None\n",
    "    representatives = np.ones(num_states)\n",
    "    priorities = populations_array / math.sqrt(2)\n",
    "    last_state = None\n",
    "    last_priority = None\n",
    "    second_last_state = None\n",
    "    second_last_state_priority = None\n",
    "    for j in range(num_states,num_seats):\n",
    "        highest = np.argmax(priorities) # index of state with highest priority. It will receive this seat\n",
    "        if(highest != last_state):\n",
    "            # If the state getting this seat is not the same as last one, \n",
    "            # update the index and priority of second-last state to receive a seat\n",
    "            second_last_state = last_state\n",
    "            second_last_state_priority = last_priority\n",
    "        # Now record the information about this seat\n",
    "        last_state = highest\n",
    "        last_priority = priorities[highest] \n",
    "        representatives[highest] +=  1    \n",
    "        # Update this state's priority\n",
    "        priorities[highest] = populations_array[highest]/math.sqrt(representatives[highest] * representatives[highest]+1)\n",
    "        \n",
    "    return (representatives, # a 1D array of apportioned representatives\n",
    "            priorities, # 1D array of  priorities of states for next \n",
    "            last_state, # the index of the state last assigned a seat\n",
    "            last_priority, # the priority for the most recently assigned seat.\n",
    "            second_last_state, # the index of the second-last state assigned a seat\n",
    "            second_last_state_priority) # the priority of the seat last assigned to second-last state\n",
    "  \n",
    "  "
   ]
  },
  {
   "cell_type": "markdown",
   "metadata": {},
   "source": [
    "## Experiments with Indian example Data"
   ]
  },
  {
   "cell_type": "code",
   "execution_count": 2,
   "metadata": {},
   "outputs": [],
   "source": [
    "example_populations_table = pd.DataFrame(\n",
    "    [[\"JAMMU & KASHMIR\",10143700],[\"HIMACHAL PRADESH\",6077900],[\"PUNJAB\",24358999],\n",
    "    [\"CHANDIGARH\",900635],[\"UTTARANCHAL\",8489349],[\"HARYANA\",21144564],[\"DELHI\",13850507],\n",
    "    [\"RAJASTHAN\",56507188],[\"UTTAR PRADESH\",166197921],[\"BIHAR\",82998509],\n",
    "    [\"SIKKIM\",540851],[\"ARUNACHAL PRADESH\",1097968],[\"NAGALAND\",1990036],\n",
    "    [\"MANIPUR\",2166788],[\"MIZORAM\",888573],[\"TRIPURA\",3199203],\n",
    "    [\"MEGHALAYA\",2318822],[\"ASSAM\",26655528],[\"WEST BENGAL\",80176197],\n",
    "    [\"JHARKHAND\",26945829],[\"ORISSA\",36804660],[\"CHHATTISGARH\",20833803],\n",
    "    [\"MADHYA PRADESH\",60348023],[\"GUJARAT\",50671017],[\"DAMAN & DIU\",158204],\n",
    "    [\"DADRA & NAGAR HAVELI\",220490],[\"MAHARASHTRA\",96878627],[\"ANDHRA PRADESH\",76210007],\n",
    "    [\"KARNATAKA\",52850562],[\"GOA\",1347668],[\"LAKSHADWEEP\",60650],\n",
    "    [\"KERALA\",31841374],[\"TAMIL NADU\",62405679],[\"PONDICHERRY\",974345],\n",
    "    [\"ANDAMAN & NICOBAR ISLANDS\",356152]\n",
    "    ] )\n",
    "\n",
    "example_populations_array = example_populations_table[1].values\n",
    "\n",
    "number_of_seats = 545\n",
    "\n",
    "representatives, priorities, last_state, last_priority, second_last_state,  second_last_state_priority \\\n",
    "= huntington_hill(example_populations_array, number_of_seats)"
   ]
  },
  {
   "cell_type": "code",
   "execution_count": 3,
   "metadata": {},
   "outputs": [
    {
     "name": "stdout",
     "output_type": "stream",
     "text": [
      "79.08356696041301\n"
     ]
    }
   ],
   "source": [
    "absolute_gaps = last_priority - priorities\n",
    "print(min(absolute_gaps))"
   ]
  },
  {
   "cell_type": "markdown",
   "metadata": {},
   "source": [
    "The __absolute gap__ for a given state is simply the difference between the priority of the last assigned seat and the state's priority.It reflects how much a state's priority would have to _increase_ for the apportionment results to change. It \n",
    "\n",
    "The __normalized gap__ for a given state is the number of _people_ who would have to be added to that state for it to gain a seat, assuming all other states' populations remained the same. The code I have does not correctly compute the gap for the last state to receive a seat. The calculation is correct for all other states. (To get the gap right for the last state, I need to use the info about the second-to-last state.)"
   ]
  },
  {
   "cell_type": "code",
   "execution_count": 4,
   "metadata": {},
   "outputs": [
    {
     "name": "stdout",
     "output_type": "stream",
     "text": [
      "The normalized runner up: RAJASTHAN 2332.6301014023743\n"
     ]
    }
   ],
   "source": [
    "normalization_factors = np.array(list(map(math.sqrt, representatives*(representatives + 1))))\n",
    "normalized_gaps = (last_priority - priorities) * normalization_factors\n",
    "# Need to fix computation of normalized gap for last state.\n",
    "min_normalized_gap = min(normalized_gaps)\n",
    "normalized_runner_up = np.argmin(normalized_gaps)\n",
    "print(\"The normalized runner up:\", example_populations_table[0][normalized_runner_up], min_normalized_gap)"
   ]
  },
  {
   "cell_type": "markdown",
   "metadata": {},
   "source": [
    "To do: __write an algorithm to compute the distance to instability. __"
   ]
  },
  {
   "cell_type": "markdown",
   "metadata": {},
   "source": [
    "## How likely is noise addition to changed apportioned seats? "
   ]
  },
  {
   "cell_type": "code",
   "execution_count": 6,
   "metadata": {},
   "outputs": [],
   "source": [
    "def huntington_hill_noise(populations_array, num_seats, epsilon, num_reps):\n",
    "    ### populations_array is a numpy array  containing the states' populations\n",
    "    ### num_seats is the desired number of seats to assign\n",
    "    ### epsilon is the parameter used for DP noise addition (Laplace noise)\n",
    "    ### num_reps is the number of attempts that are made\n",
    "    ### Returns a numpy array\n",
    "    ref_reps, _, _, _, _, _ = huntington_hill(populations_array, num_seats)\n",
    "    changed_outputs = 0\n",
    "    total_changes = 0\n",
    "    for i in range(num_reps):\n",
    "        noisy_pops = Laplace_Histogram(populations_array, epsilon)\n",
    "        reps, _, _, _, _, _ = huntington_hill(noisy_pops, num_seats)\n",
    "        if not np.array_equal(reps, ref_reps):\n",
    "            changed_outputs = changed_outputs + 1\n",
    "        total_changes = total_changes + np.linalg.norm(reps - ref_reps, ord = 1)\n",
    "    if (changed_outputs == 0):\n",
    "        avg_change = 0.0\n",
    "    else:\n",
    "        avg_change = total_changes / changed_outputs\n",
    "    return changed_outputs, avg_change\n",
    "\n",
    "def Laplace_Histogram(populations_array, epsilon):\n",
    "    num_states = len(populations_array)\n",
    "    return populations_array + np.random.laplace(scale = 1/epsilon, size = (num_states))"
   ]
  },
  {
   "cell_type": "markdown",
   "metadata": {},
   "source": [
    "Trying this with the Indian population data:"
   ]
  },
  {
   "cell_type": "code",
   "execution_count": 22,
   "metadata": {},
   "outputs": [
    {
     "name": "stdout",
     "output_type": "stream",
     "text": [
      "Out of 100 trials, there were 17 trials where the apportionment totals differed from the exact totals. Of those, the average number of seats that changed was 2.0.\n"
     ]
    }
   ],
   "source": [
    "(n, e) = huntington_hill_noise(example_populations_array, \n",
    "                      number_of_seats,\n",
    "                      epsilon = 0.00003, \n",
    "                      num_reps = 100)\n",
    "print(\"Out of 100 trials, there were {} trials where the \\\n",
    "      apportionment totals differed from the exact totals. \\\n",
    "      Of those, the average number of seats that changed \\\n",
    "      was {}.\".format(n, e))"
   ]
  },
  {
   "cell_type": "markdown",
   "metadata": {},
   "source": [
    "# Experiments with US historical data\n",
    "\n",
    "First, we load the population data into memory. \n",
    "\n",
    "This data comes from two sources: \n",
    "* 1790 through 1990: https://www.census.gov/population/www/censusdata/pop1790-1990.html\n",
    "* 2000, 2010, and 2017 (estimated): https://en.wikipedia.org/wiki/List_of_U.S._states_and_territories_by_population\n",
    "\n",
    "The data on the number of seats historically apportioned comes from \n",
    "https://en.wikipedia.org/wiki/United_States_congressional_apportionment"
   ]
  },
  {
   "cell_type": "code",
   "execution_count": 9,
   "metadata": {},
   "outputs": [],
   "source": [
    "us_pops = pd.read_csv('historical_populations.csv', header = 0)\n",
    "\n",
    "us_seats = pd.read_csv('historical_seats_apportioned.csv', header = 0)\n",
    "\n",
    "\n",
    "number_of_seats = 435 ##Need to update this to an array of historical seat totals"
   ]
  },
  {
   "cell_type": "markdown",
   "metadata": {},
   "source": [
    "Now let's delete the total US population as well as the District of Columbia\n"
   ]
  },
  {
   "cell_type": "code",
   "execution_count": 10,
   "metadata": {},
   "outputs": [
    {
     "name": "stdout",
     "output_type": "stream",
     "text": [
      "Index(['Name', '2017', '2010', '2000', '1990', '1980', '1970', '1960', '1950',\n",
      "       '1940', '1930', '1920', '1910', '1900', '1890', '1880', '1870', '1860',\n",
      "       '1850', '1840', '1830', '1820', '1810', '1800', '1790',\n",
      "       'Year of first census', 'No significant change since', 'FIPS Code'],\n",
      "      dtype='object')\n"
     ]
    },
    {
     "data": {
      "text/html": [
       "<div>\n",
       "<style scoped>\n",
       "    .dataframe tbody tr th:only-of-type {\n",
       "        vertical-align: middle;\n",
       "    }\n",
       "\n",
       "    .dataframe tbody tr th {\n",
       "        vertical-align: top;\n",
       "    }\n",
       "\n",
       "    .dataframe thead th {\n",
       "        text-align: right;\n",
       "    }\n",
       "</style>\n",
       "<table border=\"1\" class=\"dataframe\">\n",
       "  <thead>\n",
       "    <tr style=\"text-align: right;\">\n",
       "      <th></th>\n",
       "      <th>Name</th>\n",
       "      <th>2017</th>\n",
       "      <th>2010</th>\n",
       "      <th>2000</th>\n",
       "      <th>1990</th>\n",
       "      <th>1980</th>\n",
       "      <th>1970</th>\n",
       "      <th>1960</th>\n",
       "      <th>1950</th>\n",
       "      <th>1940</th>\n",
       "      <th>...</th>\n",
       "      <th>1850</th>\n",
       "      <th>1840</th>\n",
       "      <th>1830</th>\n",
       "      <th>1820</th>\n",
       "      <th>1810</th>\n",
       "      <th>1800</th>\n",
       "      <th>1790</th>\n",
       "      <th>Year of first census</th>\n",
       "      <th>No significant change since</th>\n",
       "      <th>FIPS Code</th>\n",
       "    </tr>\n",
       "  </thead>\n",
       "  <tbody>\n",
       "    <tr>\n",
       "      <th>1</th>\n",
       "      <td>Alabama</td>\n",
       "      <td>4833722</td>\n",
       "      <td>4779736</td>\n",
       "      <td>4447100</td>\n",
       "      <td>4040587</td>\n",
       "      <td>3893888</td>\n",
       "      <td>3444165</td>\n",
       "      <td>3266740</td>\n",
       "      <td>3061743</td>\n",
       "      <td>2832961</td>\n",
       "      <td>...</td>\n",
       "      <td>771623.0</td>\n",
       "      <td>590756.0</td>\n",
       "      <td>309527.0</td>\n",
       "      <td>127901.0</td>\n",
       "      <td>9046.0</td>\n",
       "      <td>1250.0</td>\n",
       "      <td>NaN</td>\n",
       "      <td>1800</td>\n",
       "      <td>1820</td>\n",
       "      <td>1.0</td>\n",
       "    </tr>\n",
       "    <tr>\n",
       "      <th>2</th>\n",
       "      <td>Alaska</td>\n",
       "      <td>739795</td>\n",
       "      <td>710231</td>\n",
       "      <td>626932</td>\n",
       "      <td>550043</td>\n",
       "      <td>401851</td>\n",
       "      <td>300382</td>\n",
       "      <td>226167</td>\n",
       "      <td>128643</td>\n",
       "      <td>72524</td>\n",
       "      <td>...</td>\n",
       "      <td>NaN</td>\n",
       "      <td>NaN</td>\n",
       "      <td>NaN</td>\n",
       "      <td>NaN</td>\n",
       "      <td>NaN</td>\n",
       "      <td>NaN</td>\n",
       "      <td>NaN</td>\n",
       "      <td>1880</td>\n",
       "      <td>1880</td>\n",
       "      <td>2.0</td>\n",
       "    </tr>\n",
       "    <tr>\n",
       "      <th>3</th>\n",
       "      <td>Arizona</td>\n",
       "      <td>7016270</td>\n",
       "      <td>6392017</td>\n",
       "      <td>5130632</td>\n",
       "      <td>3665228</td>\n",
       "      <td>2718215</td>\n",
       "      <td>1770900</td>\n",
       "      <td>1302161</td>\n",
       "      <td>749587</td>\n",
       "      <td>499261</td>\n",
       "      <td>...</td>\n",
       "      <td>NaN</td>\n",
       "      <td>NaN</td>\n",
       "      <td>NaN</td>\n",
       "      <td>NaN</td>\n",
       "      <td>NaN</td>\n",
       "      <td>NaN</td>\n",
       "      <td>NaN</td>\n",
       "      <td>1860</td>\n",
       "      <td>1870</td>\n",
       "      <td>4.0</td>\n",
       "    </tr>\n",
       "    <tr>\n",
       "      <th>4</th>\n",
       "      <td>Arkansas</td>\n",
       "      <td>2959373</td>\n",
       "      <td>2915918</td>\n",
       "      <td>2673400</td>\n",
       "      <td>2350725</td>\n",
       "      <td>2286435</td>\n",
       "      <td>1923295</td>\n",
       "      <td>1786272</td>\n",
       "      <td>1909511</td>\n",
       "      <td>1949387</td>\n",
       "      <td>...</td>\n",
       "      <td>209897.0</td>\n",
       "      <td>97574.0</td>\n",
       "      <td>30388.0</td>\n",
       "      <td>14273.0</td>\n",
       "      <td>1062.0</td>\n",
       "      <td>NaN</td>\n",
       "      <td>NaN</td>\n",
       "      <td>1810</td>\n",
       "      <td>1830</td>\n",
       "      <td>5.0</td>\n",
       "    </tr>\n",
       "    <tr>\n",
       "      <th>5</th>\n",
       "      <td>California</td>\n",
       "      <td>39536653</td>\n",
       "      <td>37253956</td>\n",
       "      <td>33871648</td>\n",
       "      <td>29760021</td>\n",
       "      <td>23667902</td>\n",
       "      <td>19953134</td>\n",
       "      <td>15717204</td>\n",
       "      <td>10586223</td>\n",
       "      <td>6907387</td>\n",
       "      <td>...</td>\n",
       "      <td>92597.0</td>\n",
       "      <td>NaN</td>\n",
       "      <td>NaN</td>\n",
       "      <td>NaN</td>\n",
       "      <td>NaN</td>\n",
       "      <td>NaN</td>\n",
       "      <td>NaN</td>\n",
       "      <td>1850</td>\n",
       "      <td>1860</td>\n",
       "      <td>6.0</td>\n",
       "    </tr>\n",
       "  </tbody>\n",
       "</table>\n",
       "<p>5 rows × 28 columns</p>\n",
       "</div>"
      ],
      "text/plain": [
       "         Name      2017      2010      2000      1990      1980      1970  \\\n",
       "1     Alabama   4833722   4779736   4447100   4040587   3893888   3444165   \n",
       "2      Alaska    739795    710231    626932    550043    401851    300382   \n",
       "3     Arizona   7016270   6392017   5130632   3665228   2718215   1770900   \n",
       "4    Arkansas   2959373   2915918   2673400   2350725   2286435   1923295   \n",
       "5  California  39536653  37253956  33871648  29760021  23667902  19953134   \n",
       "\n",
       "       1960      1950     1940    ...          1850      1840      1830  \\\n",
       "1   3266740   3061743  2832961    ...      771623.0  590756.0  309527.0   \n",
       "2    226167    128643    72524    ...           NaN       NaN       NaN   \n",
       "3   1302161    749587   499261    ...           NaN       NaN       NaN   \n",
       "4   1786272   1909511  1949387    ...      209897.0   97574.0   30388.0   \n",
       "5  15717204  10586223  6907387    ...       92597.0       NaN       NaN   \n",
       "\n",
       "       1820    1810    1800  1790  Year of first census  \\\n",
       "1  127901.0  9046.0  1250.0   NaN                  1800   \n",
       "2       NaN     NaN     NaN   NaN                  1880   \n",
       "3       NaN     NaN     NaN   NaN                  1860   \n",
       "4   14273.0  1062.0     NaN   NaN                  1810   \n",
       "5       NaN     NaN     NaN   NaN                  1850   \n",
       "\n",
       "   No significant change since  FIPS Code  \n",
       "1                         1820        1.0  \n",
       "2                         1880        2.0  \n",
       "3                         1870        4.0  \n",
       "4                         1830        5.0  \n",
       "5                         1860        6.0  \n",
       "\n",
       "[5 rows x 28 columns]"
      ]
     },
     "execution_count": 10,
     "metadata": {},
     "output_type": "execute_result"
    }
   ],
   "source": [
    "us_pops = us_pops.drop([0,9]) \n",
    "\n",
    "print(us_pops.columns)\n",
    "us_pops.head()"
   ]
  },
  {
   "cell_type": "markdown",
   "metadata": {},
   "source": [
    "We also need to process the number of seats apportioned in each Census year.\n",
    "\n",
    "* According to Wikipeda, \"Congress failed to pass any reapportionment to implement the 1920 United States Census so despite population shift, distribution of seats from 1913 remained in effect until 1933.\" For experiments, we will use the total from 1910. \n",
    "\n",
    "* For experiments with the 2017 estimates, we use the total from 2010.\n",
    "\n",
    "Both of these fictitious numbers happen to be 435. "
   ]
  },
  {
   "cell_type": "code",
   "execution_count": 12,
   "metadata": {},
   "outputs": [
    {
     "data": {
      "text/html": [
       "<div>\n",
       "<style scoped>\n",
       "    .dataframe tbody tr th:only-of-type {\n",
       "        vertical-align: middle;\n",
       "    }\n",
       "\n",
       "    .dataframe tbody tr th {\n",
       "        vertical-align: top;\n",
       "    }\n",
       "\n",
       "    .dataframe thead th {\n",
       "        text-align: right;\n",
       "    }\n",
       "</style>\n",
       "<table border=\"1\" class=\"dataframe\">\n",
       "  <thead>\n",
       "    <tr style=\"text-align: right;\">\n",
       "      <th></th>\n",
       "      <th>Year</th>\n",
       "      <th>1790</th>\n",
       "      <th>1800</th>\n",
       "      <th>1810</th>\n",
       "      <th>1820</th>\n",
       "      <th>1830</th>\n",
       "      <th>1840</th>\n",
       "      <th>1850</th>\n",
       "      <th>1860</th>\n",
       "      <th>1870</th>\n",
       "      <th>...</th>\n",
       "      <th>1910</th>\n",
       "      <th>1930</th>\n",
       "      <th>1940</th>\n",
       "      <th>1950</th>\n",
       "      <th>1960</th>\n",
       "      <th>1970</th>\n",
       "      <th>1980</th>\n",
       "      <th>1990</th>\n",
       "      <th>2000</th>\n",
       "      <th>2010</th>\n",
       "    </tr>\n",
       "  </thead>\n",
       "  <tbody>\n",
       "    <tr>\n",
       "      <th>0</th>\n",
       "      <td>Number of seats apportioned</td>\n",
       "      <td>105</td>\n",
       "      <td>142</td>\n",
       "      <td>182</td>\n",
       "      <td>213</td>\n",
       "      <td>240</td>\n",
       "      <td>223</td>\n",
       "      <td>234</td>\n",
       "      <td>241</td>\n",
       "      <td>292</td>\n",
       "      <td>...</td>\n",
       "      <td>435</td>\n",
       "      <td>435</td>\n",
       "      <td>435</td>\n",
       "      <td>435</td>\n",
       "      <td>435</td>\n",
       "      <td>435</td>\n",
       "      <td>435</td>\n",
       "      <td>435</td>\n",
       "      <td>435</td>\n",
       "      <td>435</td>\n",
       "    </tr>\n",
       "  </tbody>\n",
       "</table>\n",
       "<p>1 rows × 23 columns</p>\n",
       "</div>"
      ],
      "text/plain": [
       "                          Year  1790  1800  1810  1820  1830  1840  1850  \\\n",
       "0  Number of seats apportioned   105   142   182   213   240   223   234   \n",
       "\n",
       "   1860  1870  ...   1910  1930  1940  1950  1960  1970  1980  1990  2000  \\\n",
       "0   241   292  ...    435   435   435   435   435   435   435   435   435   \n",
       "\n",
       "   2010  \n",
       "0   435  \n",
       "\n",
       "[1 rows x 23 columns]"
      ]
     },
     "execution_count": 12,
     "metadata": {},
     "output_type": "execute_result"
    }
   ],
   "source": [
    "us_seats.head()"
   ]
  },
  {
   "cell_type": "code",
   "execution_count": 13,
   "metadata": {},
   "outputs": [],
   "source": [
    "us_seats['1920'] = us_seats['1910']\n",
    "us_seats['2017'] = us_seats['2010']"
   ]
  },
  {
   "cell_type": "code",
   "execution_count": 15,
   "metadata": {},
   "outputs": [
    {
     "name": "stdout",
     "output_type": "stream",
     "text": [
      "[ 7.  1.  9.  4. 51.  7.  5.  1. 26. 14.  2.  2. 18.  9.  5.  4.  6.  7.\n",
      "  2.  8.  9. 14.  8.  4.  9.  1.  3.  4.  2. 12.  3. 27. 13.  1. 16.  5.\n",
      "  6. 18.  2.  7.  1.  9. 35.  4.  1. 11. 10.  3.  8.  1.]\n"
     ]
    }
   ],
   "source": [
    "representatives2010, _, _, _, _, _ \\\n",
    "= huntington_hill(us_pops['2010'].values, num_seats = 435)\n",
    "print(representatives2010)"
   ]
  },
  {
   "cell_type": "code",
   "execution_count": 16,
   "metadata": {},
   "outputs": [],
   "source": [
    "list_of_years = us_pops.columns.drop(['Name', 'Year of first census',\n",
    "       'No significant change since', 'FIPS Code'])"
   ]
  },
  {
   "cell_type": "code",
   "execution_count": 37,
   "metadata": {},
   "outputs": [
    {
     "name": "stdout",
     "output_type": "stream",
     "text": [
      "2017 435  50 2.24\n",
      "2010 435  26 2.08\n",
      "2000 435  29 2.07\n",
      "1990 435  24 2.08\n",
      "1980 435  13 2.00\n",
      "1970 435  55 2.36\n",
      "1960 435  95 3.37\n",
      "1950 435  48 2.12\n",
      "1940 435  89 2.83\n",
      "1930 435  77 2.42\n",
      "1920 435  96 3.12\n",
      "1910 435  86 2.67\n",
      "1900 386  91 2.81\n",
      "1890 356   0 0.00\n",
      "1880 325   0 0.00\n"
     ]
    }
   ],
   "source": [
    "for year in list_of_years[0:15]: \n",
    "    (n,e) = huntington_hill_noise(us_pops[year].values, \n",
    "                      num_seats = us_seats[year][0],\n",
    "                      epsilon = 0.0001, \n",
    "                      num_reps = 100)\n",
    "    print('{} {} {:3d} {:.2f}'.format(year, us_seats[year][0], n, e))"
   ]
  },
  {
   "cell_type": "code",
   "execution_count": 21,
   "metadata": {},
   "outputs": [],
   "source": [
    "## Need to figure out how to handle years with missing populations. "
   ]
  },
  {
   "cell_type": "code",
   "execution_count": null,
   "metadata": {},
   "outputs": [],
   "source": []
  }
 ],
 "metadata": {
  "kernelspec": {
   "display_name": "Python 3",
   "language": "python",
   "name": "python3"
  },
  "language_info": {
   "codemirror_mode": {
    "name": "ipython",
    "version": 3
   },
   "file_extension": ".py",
   "mimetype": "text/x-python",
   "name": "python",
   "nbconvert_exporter": "python",
   "pygments_lexer": "ipython3",
   "version": "3.6.6"
  }
 },
 "nbformat": 4,
 "nbformat_minor": 2
}
